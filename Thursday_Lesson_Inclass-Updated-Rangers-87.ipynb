{
 "cells": [
  {
   "cell_type": "markdown",
   "metadata": {},
   "source": [
    "# User-Defined Functions & Scoping"
   ]
  },
  {
   "cell_type": "markdown",
   "metadata": {},
   "source": [
    "## Tasks Today:\n",
    "\n",
    "\n",
    "1) Functions <br>\n",
    " &nbsp;&nbsp;&nbsp;&nbsp; a) User-Defined vs. Built-In Functions <br>\n",
    " &nbsp;&nbsp;&nbsp;&nbsp; b) Accepting Parameters <br>\n",
    " &nbsp;&nbsp;&nbsp;&nbsp; c) Default Parameters <br>\n",
    " &nbsp;&nbsp;&nbsp;&nbsp; d) Making an Argument Optional <br>\n",
    " &nbsp;&nbsp;&nbsp;&nbsp; e) Keyword Arguments <br>\n",
    " &nbsp;&nbsp;&nbsp;&nbsp; f) Returning Values <br>\n",
    " &nbsp;&nbsp;&nbsp;&nbsp; g) *args <br>\n",
    " &nbsp;&nbsp;&nbsp;&nbsp; h) Docstring <br>\n",
    " &nbsp;&nbsp;&nbsp;&nbsp; i) Using a User Function in a Loop <br>\n",
    "2) Scope\n",
    "3) Creating more User-Defined functions "
   ]
  },
  {
   "cell_type": "markdown",
   "metadata": {},
   "source": [
    "\n",
    "## Functions"
   ]
  },
  {
   "cell_type": "markdown",
   "metadata": {},
   "source": [
    "##### User-Defined vs. Built-In Functions"
   ]
  },
  {
   "cell_type": "code",
   "execution_count": 4,
   "metadata": {},
   "outputs": [
    {
     "name": "stdout",
     "output_type": "stream",
     "text": [
      "Hello\n"
     ]
    },
    {
     "data": {
      "text/plain": [
       "[]"
      ]
     },
     "execution_count": 4,
     "metadata": {},
     "output_type": "execute_result"
    }
   ],
   "source": [
    "# Built-in Functions\n",
    "print(\"Hello\")\n",
    "\n",
    "# User-defined Functions\n",
    "def say_hello():\n",
    "    list = []\n",
    "    return list\n",
    "\n",
    "say_hello()"
   ]
  },
  {
   "cell_type": "markdown",
   "metadata": {},
   "source": [
    "##### Accepting Parameters"
   ]
  },
  {
   "cell_type": "code",
   "execution_count": 5,
   "metadata": {
    "scrolled": true
   },
   "outputs": [
    {
     "name": "stdout",
     "output_type": "stream",
     "text": [
      "Hi my name is Kathy Vu\n"
     ]
    }
   ],
   "source": [
    "# Order always matters! Parameters are based on order when you input the argument\n",
    "# Can pass any type of variable into a function as a parameter (str, int, float, bool, list, dict, etc)\n",
    "\n",
    "def print_full_name(f_name, l_name):\n",
    "    return f\"Hi my name is {f_name.title()} {l_name.title()}\"\n",
    "\n",
    "print(print_full_name(\"Kathy\", \"Vu\"))"
   ]
  },
  {
   "cell_type": "markdown",
   "metadata": {},
   "source": [
    "##### Default Parameters"
   ]
  },
  {
   "cell_type": "code",
   "execution_count": 7,
   "metadata": {},
   "outputs": [
    {
     "name": "stdout",
     "output_type": "stream",
     "text": [
      "The name is Bond... James Bond\n",
      "The name is Peach... James Peach\n"
     ]
    }
   ],
   "source": [
    "# Default paramaeters MUST come after non-default parameters\n",
    "\n",
    "def agent_name(f_name, l_name=\"Bond\"):\n",
    "    return f\"The name is {l_name}... {f_name} {l_name}\"\n",
    "\n",
    "print(agent_name(\"James\"))\n",
    "print(agent_name(\"James\", \"Peach\")) # if you give an argument for a default parameter, it will override the default"
   ]
  },
  {
   "cell_type": "code",
   "execution_count": 8,
   "metadata": {},
   "outputs": [
    {
     "name": "stdout",
     "output_type": "stream",
     "text": [
      "Your birthday is October 11, 1980\n"
     ]
    }
   ],
   "source": [
    "def oct_birthday(day, year, month=\"October\"):\n",
    "    return f\"Your birthday is {month} {day}, {year}\"\n",
    "\n",
    "print(oct_birthday(11, 1980))"
   ]
  },
  {
   "cell_type": "markdown",
   "metadata": {},
   "source": [
    "##### Making an Argument Optional"
   ]
  },
  {
   "cell_type": "code",
   "execution_count": 23,
   "metadata": {},
   "outputs": [
    {
     "name": "stdout",
     "output_type": "stream",
     "text": [
      "My horse's name is Eddy  Ed\n"
     ]
    }
   ],
   "source": [
    "def print_horse_name(f_name, m_name=\"\", l_name=\"Ed\"):\n",
    "    return f\"My horse's name is {f_name} {m_name} {l_name}\"\n",
    "\n",
    "print(print_horse_name(\"Eddy\",))"
   ]
  },
  {
   "cell_type": "markdown",
   "metadata": {},
   "source": [
    "##### Keyword Arguments"
   ]
  },
  {
   "cell_type": "code",
   "execution_count": 13,
   "metadata": {},
   "outputs": [
    {
     "name": "stdout",
     "output_type": "stream",
     "text": [
      "Harry Potter's power is invisibility\n",
      "Superman's power is flying\n"
     ]
    }
   ],
   "source": [
    "# Keyword arguments can be done in any order and does not need to be positional\n",
    "# This is because we are directly referencing the parameter name by (=\"\")\n",
    "\n",
    "def print_hero(name, power=\"invisibility\"):\n",
    "    return f\"{name.title()}'s power is {power}\"\n",
    "\n",
    "print(print_hero(\"Harry Potter\"))\n",
    "print(print_hero(power=\"flying\", name = \"Superman\"))"
   ]
  },
  {
   "cell_type": "code",
   "execution_count": 22,
   "metadata": {},
   "outputs": [
    {
     "name": "stdout",
     "output_type": "stream",
     "text": [
      "My favorite food is pizza. Sometimes I will order  appetizers, but I always get ice cream for dessert\n"
     ]
    }
   ],
   "source": [
    "# Create a function (or more than one) that accepts positional, default, and optional arguments.\n",
    "\n",
    "def favorite_foods(entree, appetizer=\"\", dessert=\"ice cream\"):\n",
    "    return f\"My favorite food is {entree}. Sometimes I will order {appetizer} appetizers, but I always get {dessert} for dessert\"\n",
    "\n",
    "print(favorite_foods(\"pizza\"))"
   ]
  },
  {
   "cell_type": "markdown",
   "metadata": {},
   "source": [
    "# Creating a start, stop, step function"
   ]
  },
  {
   "cell_type": "code",
   "execution_count": 28,
   "metadata": {},
   "outputs": [
    {
     "name": "stdout",
     "output_type": "stream",
     "text": [
      "0\n",
      "1\n",
      "2\n",
      "3\n",
      "4\n",
      "5\n",
      "6\n",
      "7\n",
      "8\n",
      "9\n",
      "\n",
      "2\n",
      "4\n",
      "6\n",
      "8\n"
     ]
    }
   ],
   "source": [
    "def my_range(stop, start=0, step=1):\n",
    "    for i in range(start, stop, step):\n",
    "        print(i)\n",
    "        \n",
    "my_range(10)\n",
    "print(\"\")\n",
    "my_range(10, start=2, step=2)"
   ]
  },
  {
   "cell_type": "markdown",
   "metadata": {},
   "source": [
    "##### Returning Values"
   ]
  },
  {
   "cell_type": "code",
   "execution_count": 32,
   "metadata": {},
   "outputs": [
    {
     "name": "stdout",
     "output_type": "stream",
     "text": [
      "10\n"
     ]
    },
    {
     "data": {
      "text/plain": [
       "100"
      ]
     },
     "execution_count": 32,
     "metadata": {},
     "output_type": "execute_result"
    }
   ],
   "source": [
    "# You should always return something and not print in a function\n",
    "# Returning something allows the computer to use that information elsewhere\n",
    "\n",
    "def add_nums(num1, num2):\n",
    "    return num1+num2\n",
    "\n",
    "print(add_nums(5, 5))\n",
    "add_nums(56,44)\n",
    "\n",
    "# if you're using vscode, if you return something, vscode is just an interpreter so it will not show the output"
   ]
  },
  {
   "cell_type": "markdown",
   "metadata": {},
   "source": [
    "##### *args / **kwargs (keyword arguments)"
   ]
  },
  {
   "cell_type": "code",
   "execution_count": 41,
   "metadata": {},
   "outputs": [
    {
     "name": "stdout",
     "output_type": "stream",
     "text": [
      "These are our positional arguments: 2\n",
      "These are our args: (10, 'mega')\n",
      "These are our kwargs: {'names': ['Alex', 'Perry', 'Kelsey'], 'subject': 'Python'}\n",
      "These are our default parameters: default\n"
     ]
    }
   ],
   "source": [
    "# *args stands for any number of arguments\n",
    "# **kwargs stands for any number of keyword arguments. they are notated by (kwarg=\"\")\n",
    "# order of position: positional args > *args > default > **kwargs\n",
    "\n",
    "def print_args_kwargs(num1, *args, default=\"default\", **kwargs):\n",
    "    print(f\"These are our positional arguments: {num1}\")\n",
    "    print(f\"These are our args: {args}\") # notice we don't need the *\n",
    "    print(f\"These are our kwargs: {kwargs}\") # kwargs will print out as a dictionary\n",
    "    print(f\"These are our default parameters: {default}\")\n",
    "\n",
    "print_args_kwargs(2, 10, \"mega\", names=[\"Alex\", \"Perry\", \"Kelsey\"], subject=\"Python\")\n"
   ]
  },
  {
   "cell_type": "code",
   "execution_count": 57,
   "metadata": {},
   "outputs": [
    {
     "name": "stdout",
     "output_type": "stream",
     "text": [
      "No matter the season, I will always enjoy: traveling and eating\n",
      "\n",
      "I sometimes enjoy:\n",
      "\tbeing outdoors\n",
      "\tbeing at home\n",
      "\tgoing to a coffee shop\n",
      "\n",
      "These are the things I enjoy doing based on the season:\n",
      "\tsummer: going to the beach\n",
      "\tfall: ['hiking, pumpkin picking']\n",
      "\twinter: putting xmas decorations up\n",
      "\tspring: ['picnics', 'taking a walk']\n"
     ]
    }
   ],
   "source": [
    "# Write a function that accepts positional arguments, atleast 3 args and\n",
    "# at least 2 kwargs and prints out each argument and keyword argument on its own line.\n",
    "# we can loop through *args because it is a tuple, so we use a for loop\n",
    "# we can loop through **kwargs because it is a dict, so we use .items() to loop\n",
    "\n",
    "def fav_activities(activity1, activity2, *other, **season):\n",
    "    print(f\"No matter the season, I will always enjoy: {activity1} and {activity2}\")\n",
    "    \n",
    "    print(\"\\nI sometimes enjoy:\")\n",
    "    for arg in other:\n",
    "        print(f\"\\t{arg}\")\n",
    "        \n",
    "    print(f\"\\nThese are the things I enjoy doing based on the season:\")\n",
    "    for key, value in season.items():\n",
    "        print(f\"\\t{key}: {value}\")\n",
    "\n",
    "fav_activities(\"traveling\", \"eating\", \"being outdoors\", \"being at home\", \"going to a coffee shop\", \n",
    "               summer=\"going to the beach\", fall=[\"hiking, pumpkin picking\"], \n",
    "               winter=\"putting xmas decorations up\", spring=[\"picnics\", \"taking a walk\"])"
   ]
  },
  {
   "cell_type": "markdown",
   "metadata": {},
   "source": [
    "##### Docstring"
   ]
  },
  {
   "cell_type": "code",
   "execution_count": 63,
   "metadata": {},
   "outputs": [
    {
     "name": "stdout",
     "output_type": "stream",
     "text": [
      "Chris\n",
      "Katie\n",
      "Perry\n",
      "Teddie\n"
     ]
    }
   ],
   "source": [
    "# docstring gives some informationa about the function -- either instructions of what the function does\n",
    "# or it helps explain your code a little more\n",
    "\n",
    "def print_names(arr):\n",
    "    \"\"\"\n",
    "    The print_names() function requires a list to be passed as a parameter and will print the contents of the list.\n",
    "    It is expecting a list of strings to be passed into it.\n",
    "    \"\"\"\n",
    "    for name in arr:\n",
    "        print(name)\n",
    "\n",
    "\n",
    "print_names([\"Chris\", \"Katie\", \"Perry\", \"Teddie\"])"
   ]
  },
  {
   "cell_type": "markdown",
   "metadata": {},
   "source": [
    "##### Using a User Function in a Loop"
   ]
  },
  {
   "cell_type": "code",
   "execution_count": 65,
   "metadata": {},
   "outputs": [
    {
     "name": "stdout",
     "output_type": "stream",
     "text": [
      "What do you want to do today? sleep\n",
      "Your answer is sleep\n",
      "Do you want to quit? Y/N n\n",
      "What do you want to do today? eat donuts\n",
      "Your answer is eat donuts\n",
      "Do you want to quit? Y/N y\n"
     ]
    }
   ],
   "source": [
    "def print_input(answer):\n",
    "    print(f\"Your answer is {answer}\")\n",
    "    \n",
    "while True:\n",
    "    ask = input(\"What do you want to do today? \")\n",
    "    print_input(ask)\n",
    "    response = input(\"Do you want to quit? Y/N \")\n",
    "    if response.lower().strip() == 'y':\n",
    "        break"
   ]
  },
  {
   "cell_type": "code",
   "execution_count": 73,
   "metadata": {},
   "outputs": [
    {
     "name": "stdout",
     "output_type": "stream",
     "text": [
      "1 x 2 = 2\n",
      "2 x 2 = 4\n",
      "3 x 2 = 6\n",
      "4 x 2 = 8\n",
      "5 x 2 = 10\n"
     ]
    }
   ],
   "source": [
    "# helper functions are another function that performs a task within another loop or function\n",
    "# used a lot when that particular utility needs to be used multiple times\n",
    "\n",
    "def times_two(num): # this is the helper function\n",
    "    return num * 2\n",
    "\n",
    "def my_range(stop, start, step=1):\n",
    "    for i in range(start, stop, step):\n",
    "        print(f\"{i} x 2 = {times_two(i)}\")\n",
    "        \n",
    "my_range(6,1)"
   ]
  },
  {
   "cell_type": "markdown",
   "metadata": {},
   "source": [
    "## Function Exercises <br>\n",
    "### Exercise 1\n",
    "<p>Write a function that loops through a list of first_names and a list of last_names, combines the two and return a list of full_names</p>"
   ]
  },
  {
   "cell_type": "code",
   "execution_count": 75,
   "metadata": {},
   "outputs": [
    {
     "data": {
      "text/plain": [
       "['John Smith', 'Evan Smith', 'Jordan Williams', 'Max Bell']"
      ]
     },
     "execution_count": 75,
     "metadata": {},
     "output_type": "execute_result"
    }
   ],
   "source": [
    "first_name = ['John', 'Evan', 'Jordan', 'Max']\n",
    "last_name = ['Smith', 'Smith', 'Williams', 'Bell']\n",
    "\n",
    "# Output: ['John Smith', 'Evan Smith', 'Jordan Williams', 'Max Bell']\n",
    "\n",
    "def full_names(first, last): #this is the helper function\n",
    "    \"\"\"\n",
    "    Our function full_names is going to be combing the first and last names togeteher and return full names\n",
    "    \"\"\"\n",
    "    return f\"{first.title()} {last.title()}\"\n",
    "\n",
    "def names(first_name, last_name):\n",
    "    fulls = []\n",
    "    for i in range(len(first_name)):\n",
    "        whole_name = full_names(first_name[i], last_name[i])\n",
    "        fulls.append(whole_name)\n",
    "    return fulls\n",
    "\n",
    "names(first_name, last_name)"
   ]
  },
  {
   "cell_type": "markdown",
   "metadata": {},
   "source": [
    "### Exercise 2\n",
    "Create a function that alters all values in the given list by subtracting 5 and then doubling them."
   ]
  },
  {
   "cell_type": "code",
   "execution_count": 102,
   "metadata": {},
   "outputs": [
    {
     "name": "stdout",
     "output_type": "stream",
     "text": [
      "[5, 10, 15, 20, 3]\n",
      "[0, 10, 20, 30, -4]\n"
     ]
    }
   ],
   "source": [
    "input_list = [5,10,15,20,3]\n",
    "# output = [0,10,20,30,-4]\n",
    "\n",
    "def subtract_five(num_list):\n",
    "    minus_five = []\n",
    "    for i in num_list:\n",
    "        i = minus_five.append(i-5)\n",
    "    return minus_five\n",
    "\n",
    "def double(num_list):\n",
    "    doubles = []\n",
    "    for i in subtract_five(num_list):\n",
    "        doubles.append(i*2)\n",
    "    return doubles\n",
    "    \n",
    "print(input_list)\n",
    "print(double(input_list))"
   ]
  },
  {
   "cell_type": "markdown",
   "metadata": {},
   "source": [
    "### Exercise 3\n",
    "Create a function that takes in a list of strings and filters out the strings that DO NOT contain vowels. "
   ]
  },
  {
   "cell_type": "code",
   "execution_count": 125,
   "metadata": {},
   "outputs": [
    {
     "name": "stdout",
     "output_type": "stream",
     "text": [
      "Version 1: ['Sheldon', 'Leonard', 'Amy']\n",
      "Version 2: ['Sheldon', 'Leonard', 'Amy']\n"
     ]
    }
   ],
   "source": [
    "string_list = ['Sheldon','Pnny','Leonard','Hwrd','Rj','Amy','Strt']\n",
    "# output = ['Sheldon','Leonard','Amy']\n",
    "\n",
    "def only_vowels(str_list):\n",
    "    only_vowel_list = []\n",
    "    for str in str_list:\n",
    "        if \"a\" in str.lower():\n",
    "            only_vowel_list.append(str)\n",
    "        elif \"e\" in str.lower():\n",
    "            only_vowel_list.append(str)\n",
    "        elif \"i\" in str.lower():\n",
    "            only_vowel_list.append(str)\n",
    "        elif \"o\" in str.lower():\n",
    "            only_vowel_list.append(str)\n",
    "        elif \"u\" in str.lower():\n",
    "            only_vowel_list.append(str)\n",
    "    return only_vowel_list\n",
    "\n",
    "print(f\"Version 1: {only_vowels(string_list)}\")\n",
    "\n",
    "\n",
    "# another way of doing this exercise that is more simplified\n",
    "string_list = ['Sheldon','Pnny','Leonard','Hwrd','Rj','Amy','Strt']\n",
    "\n",
    "def only_vowels2(str_list):\n",
    "    only_vowel_list = []\n",
    "    vowels = ['a', 'e', 'i', 'o', 'u']\n",
    "    for str in str_list:\n",
    "        for vowel in vowels:\n",
    "            if vowel in str.lower() and str not in only_vowel_list:\n",
    "                    only_vowel_list.append(str)\n",
    "    return only_vowel_list\n",
    "\n",
    "print(f\"Version 2: {only_vowels2(string_list)}\")"
   ]
  },
  {
   "cell_type": "markdown",
   "metadata": {},
   "source": [
    "### Exercise 4\n",
    "Create a function that accepts a list as a parameter and returns a dictionary containing the list items as it's keys, and the number of times they appear in the list as the values"
   ]
  },
  {
   "cell_type": "code",
   "execution_count": 155,
   "metadata": {},
   "outputs": [
    {
     "name": "stdout",
     "output_type": "stream",
     "text": [
      "{'Harry': 3, 'Hermione': 2, 'Ron': 4, 'Dobby': 1, 'Draco': 1, 'Luna': 1}\n"
     ]
    }
   ],
   "source": [
    "example_list = [\"Harry\", 'Hermione','Harry','Ron','Dobby','Draco','Luna','Harry','Hermione','Ron','Ron','Ron']\n",
    "\n",
    "# output = {\n",
    "#     \"Harry\":3,\n",
    "#     \"Hermione\":2,\n",
    "#     \"Ron\":4,\n",
    "#     \"Dobby\":1,\n",
    "#     \"Draco\":1,\n",
    "#     \"Luna\": 1\n",
    "# }\n",
    "\n",
    "def list_to_dict(alist):\n",
    "    new_dict = {}\n",
    "    for name in alist:\n",
    "        if name not in new_dict:\n",
    "            new_dict[name] = 1\n",
    "        else:\n",
    "            new_dict[name] += 1\n",
    "    return new_dict\n",
    "\n",
    "print(list_to_dict(example_list))"
   ]
  },
  {
   "cell_type": "code",
   "execution_count": 158,
   "metadata": {},
   "outputs": [
    {
     "name": "stdout",
     "output_type": "stream",
     "text": [
      "{'Harry': 3, 'Hermione': 2, 'Ron': 4, 'Dobby': 1, 'Draco': 1, 'Luna': 1}\n"
     ]
    }
   ],
   "source": [
    "example_list = [\"Harry\", 'Hermione','Harry','Ron','Dobby','Draco','Luna','Harry','Hermione','Ron','Ron','Ron']\n",
    "\n",
    "# output = {\n",
    "#     \"Harry\":3,\n",
    "#     \"Hermione\":2,\n",
    "#     \"Ron\":4,\n",
    "#     \"Dobby\":1,\n",
    "#     \"Draco\":1,\n",
    "#     \"Luna\": 1\n",
    "# }\n",
    "\n",
    "def list_to_dict(alist):\n",
    "    new_dict = {}\n",
    "    for name in alist:\n",
    "        new_dict[name] = alist.count(name) # this uses a built in counting function\n",
    "    return new_dict\n",
    "\n",
    "print(list_to_dict(example_list))"
   ]
  },
  {
   "cell_type": "code",
   "execution_count": 161,
   "metadata": {},
   "outputs": [
    {
     "name": "stdout",
     "output_type": "stream",
     "text": [
      "None\n"
     ]
    }
   ],
   "source": [
    "example_list = [\"Harry\", 'Hermione','Harry','Ron','Dobby','Draco','Luna','Harry','Hermione','Ron','Ron','Ron']\n",
    "\n",
    "# output = {\n",
    "#     \"Harry\":3,\n",
    "#     \"Hermione\":2,\n",
    "#     \"Ron\":4,\n",
    "#     \"Dobby\":1,\n",
    "#     \"Draco\":1,\n",
    "#     \"Luna\": 1\n",
    "# }\n",
    "\n",
    "def list_to_dict(alist):\n",
    "    new_dict = {name:alist.count(name) for name in alist}\n",
    "\n",
    "print(list_to_dict(example_list))"
   ]
  },
  {
   "cell_type": "markdown",
   "metadata": {},
   "source": [
    "\n",
    "\n",
    "## Scope <br>\n",
    "<p>Scope refers to the ability to access variables, different types of scope include:<br>a) Global<br>b) Function (local)<br>c) Class (local)</p>"
   ]
  },
  {
   "cell_type": "code",
   "execution_count": 117,
   "metadata": {},
   "outputs": [
    {
     "name": "stdout",
     "output_type": "stream",
     "text": [
      "3\n",
      "6\n"
     ]
    }
   ],
   "source": [
    "# placement of variable declaration matters\n",
    "\n",
    "number = 3 # Gloal Variable\n",
    "\n",
    "def myFunc():\n",
    "    num_3 = 6 # Local Function Variable\n",
    "    return num_3\n",
    "\n",
    "print(number)\n",
    "\n",
    "# this stores a function call at a variable\n",
    "return_num = myFunc()\n",
    "print(return_num)"
   ]
  },
  {
   "cell_type": "markdown",
   "metadata": {},
   "source": [
    "# Homework Exercises"
   ]
  },
  {
   "cell_type": "markdown",
   "metadata": {},
   "source": [
    "## Exercise 1 <br>\n",
    "<p>Given a list as a parameter,write a function that returns a list of numbers that are less than ten</b></i></p><br>\n",
    "<p> For example: Say your input parameter to the function is [1,11,14,5,8,9]...Your output should [1,5,8,9]</p>"
   ]
  },
  {
   "cell_type": "code",
   "execution_count": 171,
   "metadata": {},
   "outputs": [
    {
     "name": "stdout",
     "output_type": "stream",
     "text": [
      "Using a for loop: [1, 5, 8, 9]\n",
      "Using list comprehension: [1, 5, 8, 9]\n"
     ]
    }
   ],
   "source": [
    "# Use the following list - [1,11,14,5,8,9]\n",
    "\n",
    "l_1 = [1,11,14,5,8,9]\n",
    "\n",
    "def under_ten(a_list):\n",
    "    for num in a_list[::-1]:\n",
    "        if num >= 10:\n",
    "            a_list.remove(num)\n",
    "    return a_list\n",
    "\n",
    "print(\"Using a for loop:\", under_ten(l_1))\n",
    "\n",
    "\n",
    "\n",
    "l_1 = [1,11,14,5,8,9]\n",
    "\n",
    "def under_ten2(a_list):\n",
    "    a_list = [num for num in a_list if num < 10]\n",
    "    return a_list\n",
    "\n",
    "print(\"Using list comprehension:\", under_ten2(l_1))"
   ]
  },
  {
   "cell_type": "markdown",
   "metadata": {},
   "source": [
    "## Exercise 2 <br>\n",
    "<p>Write a function that takes in two lists and returns the two lists merged together and sorted<br>\n",
    "<b><i>Hint: You can use the .sort() method</i></b></p>"
   ]
  },
  {
   "cell_type": "code",
   "execution_count": 173,
   "metadata": {},
   "outputs": [
    {
     "name": "stdout",
     "output_type": "stream",
     "text": [
      "Using .sort(): [1, 2, 3, 3, 4, 4, 5, 5, 6, 6, 7, 8, 10]\n",
      "Using sorted(): [1, 2, 3, 3, 4, 4, 5, 5, 6, 6, 7, 8, 10]\n"
     ]
    }
   ],
   "source": [
    "l_1 = [1,2,3,4,5,6]\n",
    "l_2 = [3,4,5,6,7,8,10]\n",
    "\n",
    "def merge_lists(list_1, list_2):\n",
    "    list_3 = list_1 + list_2\n",
    "    list_3.sort()\n",
    "    return list_3\n",
    "\n",
    "print(\"Using .sort():\", merge_lists(l_1, l_2))\n",
    "\n",
    "\n",
    "\n",
    "l_1 = [1,2,3,4,5,6]\n",
    "l_2 = [3,4,5,6,7,8,10]\n",
    "\n",
    "def merge_lists2(list_1, list_2):\n",
    "    return sorted(list_1 + list_2)\n",
    "\n",
    "print(\"Using sorted():\", merge_lists(l_1, l_2))"
   ]
  }
 ],
 "metadata": {
  "kernelspec": {
   "display_name": "Python 3 (ipykernel)",
   "language": "python",
   "name": "python3"
  },
  "language_info": {
   "codemirror_mode": {
    "name": "ipython",
    "version": 3
   },
   "file_extension": ".py",
   "mimetype": "text/x-python",
   "name": "python",
   "nbconvert_exporter": "python",
   "pygments_lexer": "ipython3",
   "version": "3.9.13"
  }
 },
 "nbformat": 4,
 "nbformat_minor": 2
}
